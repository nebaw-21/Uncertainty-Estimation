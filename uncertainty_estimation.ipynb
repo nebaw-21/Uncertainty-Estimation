{
 "cells": [
  {
   "cell_type": "markdown",
   "id": "42ea6e44",
   "metadata": {},
   "source": [
    "# Uncertainty Estimation in Tabular Regression\n",
    "## Using MC Dropout, Deep Ensembles, and Temperature Scaling on Boston Housing Dataset"
   ]
  },
  {
   "cell_type": "code",
   "execution_count": 3,
   "id": "40b5a635",
   "metadata": {},
   "outputs": [],
   "source": [
    "# Import necessary libraries: tensorflow for models, sklearn for dataset and metrics, pandas/numpy for data, matplotlib/seaborn for plots\n",
    "import tensorflow as tf\n",
    "from tensorflow.keras import layers, models\n",
    "from sklearn.datasets import fetch_california_housing\n",
    "from sklearn.model_selection import train_test_split\n",
    "from sklearn.metrics import mean_squared_error, r2_score\n",
    "from sklearn.preprocessing import StandardScaler\n",
    "import pandas as pd\n",
    "import numpy as np\n",
    "import matplotlib.pyplot as plt\n",
    "import seaborn as sns\n",
    "from scipy.stats import norm"
   ]
  },
  {
   "cell_type": "code",
   "execution_count": null,
   "id": "6d8f2fe4",
   "metadata": {},
   "outputs": [],
   "source": [
    "# Load California Housing dataset from sklearn, convert to DataFrame, split into features (X) and target (y), then train-test split (80/20), standardize features\n",
    "data = fetch_california_housing(as_frame=True)\n",
    "X = data.data\n",
    "y = data.target\n",
    "\n",
    "# Split into train/test (80/20)\n",
    "X_train, X_test, y_train, y_test = train_test_split(X, y, test_size=0.2, random_state=42)\n",
    "\n",
    "# Further split train into train/val (80/20 of train)\n",
    "X_train, X_val, y_train, y_val = train_test_split(X_train, y_train, test_size=0.2, random_state=42)\n",
    "\n",
    "# Standardize features\n",
    "scaler = StandardScaler()\n",
    "X_train_scaled = scaler.fit_transform(X_train)\n",
    "X_val_scaled = scaler.transform(X_val)\n",
    "X_test_scaled = scaler.transform(X_test)"
   ]
  },
  {
   "cell_type": "code",
   "execution_count": null,
   "id": "b49b8d7e",
   "metadata": {},
   "outputs": [],
   "source": [
    "# Import the build_mlp function from models/simple_mlp.py\n",
    "from models.simple_mlp import build_mlp"
   ]
  }
 ],
 "metadata": {
  "kernelspec": {
   "display_name": ".venv",
   "language": "python",
   "name": "python3"
  },
  "language_info": {
   "codemirror_mode": {
    "name": "ipython",
    "version": 3
   },
   "file_extension": ".py",
   "mimetype": "text/x-python",
   "name": "python",
   "nbconvert_exporter": "python",
   "pygments_lexer": "ipython3",
   "version": "3.13.5"
  }
 },
 "nbformat": 4,
 "nbformat_minor": 5
}
