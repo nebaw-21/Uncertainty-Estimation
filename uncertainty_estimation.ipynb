{
 "cells": [
  {
   "cell_type": "markdown",
   "id": "42ea6e44",
   "metadata": {},
   "source": [
    "# Uncertainty Estimation in Tabular Regression\n",
    "## Using MC Dropout, Deep Ensembles, and Temperature Scaling on Boston Housing Dataset"
   ]
  }
 ],
 "metadata": {
  "language_info": {
   "name": "python"
  }
 },
 "nbformat": 4,
 "nbformat_minor": 5
}
